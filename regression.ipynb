{
 "cells": [
  {
   "cell_type": "code",
   "execution_count": 1,
   "metadata": {},
   "outputs": [
    {
     "data": {
      "text/html": [
       "<div>\n",
       "<style scoped>\n",
       "    .dataframe tbody tr th:only-of-type {\n",
       "        vertical-align: middle;\n",
       "    }\n",
       "\n",
       "    .dataframe tbody tr th {\n",
       "        vertical-align: top;\n",
       "    }\n",
       "\n",
       "    .dataframe thead th {\n",
       "        text-align: right;\n",
       "    }\n",
       "</style>\n",
       "<table border=\"1\" class=\"dataframe\">\n",
       "  <thead>\n",
       "    <tr style=\"text-align: right;\">\n",
       "      <th></th>\n",
       "      <th>Unnamed: 0</th>\n",
       "      <th>bwt</th>\n",
       "      <th>gestation</th>\n",
       "      <th>parity</th>\n",
       "      <th>age</th>\n",
       "      <th>height</th>\n",
       "      <th>weight</th>\n",
       "      <th>smoke</th>\n",
       "    </tr>\n",
       "  </thead>\n",
       "  <tbody>\n",
       "    <tr>\n",
       "      <th>0</th>\n",
       "      <td>1</td>\n",
       "      <td>120</td>\n",
       "      <td>284</td>\n",
       "      <td>0</td>\n",
       "      <td>27</td>\n",
       "      <td>62</td>\n",
       "      <td>100</td>\n",
       "      <td>0</td>\n",
       "    </tr>\n",
       "    <tr>\n",
       "      <th>1</th>\n",
       "      <td>2</td>\n",
       "      <td>113</td>\n",
       "      <td>282</td>\n",
       "      <td>0</td>\n",
       "      <td>33</td>\n",
       "      <td>64</td>\n",
       "      <td>135</td>\n",
       "      <td>0</td>\n",
       "    </tr>\n",
       "    <tr>\n",
       "      <th>2</th>\n",
       "      <td>3</td>\n",
       "      <td>128</td>\n",
       "      <td>279</td>\n",
       "      <td>0</td>\n",
       "      <td>28</td>\n",
       "      <td>64</td>\n",
       "      <td>115</td>\n",
       "      <td>1</td>\n",
       "    </tr>\n",
       "    <tr>\n",
       "      <th>3</th>\n",
       "      <td>4</td>\n",
       "      <td>108</td>\n",
       "      <td>282</td>\n",
       "      <td>0</td>\n",
       "      <td>23</td>\n",
       "      <td>67</td>\n",
       "      <td>125</td>\n",
       "      <td>1</td>\n",
       "    </tr>\n",
       "    <tr>\n",
       "      <th>4</th>\n",
       "      <td>5</td>\n",
       "      <td>136</td>\n",
       "      <td>286</td>\n",
       "      <td>0</td>\n",
       "      <td>25</td>\n",
       "      <td>62</td>\n",
       "      <td>93</td>\n",
       "      <td>0</td>\n",
       "    </tr>\n",
       "  </tbody>\n",
       "</table>\n",
       "</div>"
      ],
      "text/plain": [
       "   Unnamed: 0  bwt  gestation  parity  age  height  weight  smoke\n",
       "0           1  120        284       0   27      62     100      0\n",
       "1           2  113        282       0   33      64     135      0\n",
       "2           3  128        279       0   28      64     115      1\n",
       "3           4  108        282       0   23      67     125      1\n",
       "4           5  136        286       0   25      62      93      0"
      ]
     },
     "execution_count": 1,
     "metadata": {},
     "output_type": "execute_result"
    }
   ],
   "source": [
    "import pandas as pd\n",
    "import numpy as np\n",
    "df = pd.read_csv('BirthWeight.csv')\n",
    "df.head()"
   ]
  },
  {
   "cell_type": "code",
   "execution_count": 2,
   "metadata": {},
   "outputs": [
    {
     "data": {
      "text/html": [
       "<div>\n",
       "<style scoped>\n",
       "    .dataframe tbody tr th:only-of-type {\n",
       "        vertical-align: middle;\n",
       "    }\n",
       "\n",
       "    .dataframe tbody tr th {\n",
       "        vertical-align: top;\n",
       "    }\n",
       "\n",
       "    .dataframe thead th {\n",
       "        text-align: right;\n",
       "    }\n",
       "</style>\n",
       "<table border=\"1\" class=\"dataframe\">\n",
       "  <thead>\n",
       "    <tr style=\"text-align: right;\">\n",
       "      <th></th>\n",
       "      <th>bwt</th>\n",
       "      <th>gestation</th>\n",
       "      <th>parity</th>\n",
       "      <th>age</th>\n",
       "      <th>height</th>\n",
       "      <th>weight</th>\n",
       "      <th>smoke</th>\n",
       "    </tr>\n",
       "  </thead>\n",
       "  <tbody>\n",
       "    <tr>\n",
       "      <th>0</th>\n",
       "      <td>120</td>\n",
       "      <td>284</td>\n",
       "      <td>0</td>\n",
       "      <td>27</td>\n",
       "      <td>62</td>\n",
       "      <td>100</td>\n",
       "      <td>0</td>\n",
       "    </tr>\n",
       "    <tr>\n",
       "      <th>1</th>\n",
       "      <td>113</td>\n",
       "      <td>282</td>\n",
       "      <td>0</td>\n",
       "      <td>33</td>\n",
       "      <td>64</td>\n",
       "      <td>135</td>\n",
       "      <td>0</td>\n",
       "    </tr>\n",
       "    <tr>\n",
       "      <th>2</th>\n",
       "      <td>128</td>\n",
       "      <td>279</td>\n",
       "      <td>0</td>\n",
       "      <td>28</td>\n",
       "      <td>64</td>\n",
       "      <td>115</td>\n",
       "      <td>1</td>\n",
       "    </tr>\n",
       "    <tr>\n",
       "      <th>3</th>\n",
       "      <td>108</td>\n",
       "      <td>282</td>\n",
       "      <td>0</td>\n",
       "      <td>23</td>\n",
       "      <td>67</td>\n",
       "      <td>125</td>\n",
       "      <td>1</td>\n",
       "    </tr>\n",
       "    <tr>\n",
       "      <th>4</th>\n",
       "      <td>136</td>\n",
       "      <td>286</td>\n",
       "      <td>0</td>\n",
       "      <td>25</td>\n",
       "      <td>62</td>\n",
       "      <td>93</td>\n",
       "      <td>0</td>\n",
       "    </tr>\n",
       "  </tbody>\n",
       "</table>\n",
       "</div>"
      ],
      "text/plain": [
       "   bwt  gestation  parity  age  height  weight  smoke\n",
       "0  120        284       0   27      62     100      0\n",
       "1  113        282       0   33      64     135      0\n",
       "2  128        279       0   28      64     115      1\n",
       "3  108        282       0   23      67     125      1\n",
       "4  136        286       0   25      62      93      0"
      ]
     },
     "execution_count": 2,
     "metadata": {},
     "output_type": "execute_result"
    }
   ],
   "source": [
    "df.drop('Unnamed: 0', axis = 1, inplace = True)\n",
    "df.head()"
   ]
  },
  {
   "cell_type": "code",
   "execution_count": 3,
   "metadata": {},
   "outputs": [
    {
     "data": {
      "text/html": [
       "<div>\n",
       "<style scoped>\n",
       "    .dataframe tbody tr th:only-of-type {\n",
       "        vertical-align: middle;\n",
       "    }\n",
       "\n",
       "    .dataframe tbody tr th {\n",
       "        vertical-align: top;\n",
       "    }\n",
       "\n",
       "    .dataframe thead th {\n",
       "        text-align: right;\n",
       "    }\n",
       "</style>\n",
       "<table border=\"1\" class=\"dataframe\">\n",
       "  <thead>\n",
       "    <tr style=\"text-align: right;\">\n",
       "      <th></th>\n",
       "      <th>bwt</th>\n",
       "      <th>gestation</th>\n",
       "      <th>parity</th>\n",
       "      <th>age</th>\n",
       "      <th>height</th>\n",
       "      <th>weight</th>\n",
       "      <th>smoke</th>\n",
       "    </tr>\n",
       "  </thead>\n",
       "  <tbody>\n",
       "    <tr>\n",
       "      <th>count</th>\n",
       "      <td>1174.000000</td>\n",
       "      <td>1174.000000</td>\n",
       "      <td>1174.000000</td>\n",
       "      <td>1174.000000</td>\n",
       "      <td>1174.000000</td>\n",
       "      <td>1174.000000</td>\n",
       "      <td>1174.000000</td>\n",
       "    </tr>\n",
       "    <tr>\n",
       "      <th>mean</th>\n",
       "      <td>119.462521</td>\n",
       "      <td>279.101363</td>\n",
       "      <td>0.262351</td>\n",
       "      <td>27.228279</td>\n",
       "      <td>64.049404</td>\n",
       "      <td>128.478705</td>\n",
       "      <td>0.390971</td>\n",
       "    </tr>\n",
       "    <tr>\n",
       "      <th>std</th>\n",
       "      <td>18.328671</td>\n",
       "      <td>16.010305</td>\n",
       "      <td>0.440100</td>\n",
       "      <td>5.817839</td>\n",
       "      <td>2.526102</td>\n",
       "      <td>20.734282</td>\n",
       "      <td>0.488176</td>\n",
       "    </tr>\n",
       "    <tr>\n",
       "      <th>min</th>\n",
       "      <td>55.000000</td>\n",
       "      <td>148.000000</td>\n",
       "      <td>0.000000</td>\n",
       "      <td>15.000000</td>\n",
       "      <td>53.000000</td>\n",
       "      <td>87.000000</td>\n",
       "      <td>0.000000</td>\n",
       "    </tr>\n",
       "    <tr>\n",
       "      <th>25%</th>\n",
       "      <td>108.000000</td>\n",
       "      <td>272.000000</td>\n",
       "      <td>0.000000</td>\n",
       "      <td>23.000000</td>\n",
       "      <td>62.000000</td>\n",
       "      <td>114.250000</td>\n",
       "      <td>0.000000</td>\n",
       "    </tr>\n",
       "    <tr>\n",
       "      <th>50%</th>\n",
       "      <td>120.000000</td>\n",
       "      <td>280.000000</td>\n",
       "      <td>0.000000</td>\n",
       "      <td>26.000000</td>\n",
       "      <td>64.000000</td>\n",
       "      <td>125.000000</td>\n",
       "      <td>0.000000</td>\n",
       "    </tr>\n",
       "    <tr>\n",
       "      <th>75%</th>\n",
       "      <td>131.000000</td>\n",
       "      <td>288.000000</td>\n",
       "      <td>1.000000</td>\n",
       "      <td>31.000000</td>\n",
       "      <td>66.000000</td>\n",
       "      <td>139.000000</td>\n",
       "      <td>1.000000</td>\n",
       "    </tr>\n",
       "    <tr>\n",
       "      <th>max</th>\n",
       "      <td>176.000000</td>\n",
       "      <td>353.000000</td>\n",
       "      <td>1.000000</td>\n",
       "      <td>45.000000</td>\n",
       "      <td>72.000000</td>\n",
       "      <td>250.000000</td>\n",
       "      <td>1.000000</td>\n",
       "    </tr>\n",
       "  </tbody>\n",
       "</table>\n",
       "</div>"
      ],
      "text/plain": [
       "               bwt    gestation       parity          age       height  \\\n",
       "count  1174.000000  1174.000000  1174.000000  1174.000000  1174.000000   \n",
       "mean    119.462521   279.101363     0.262351    27.228279    64.049404   \n",
       "std      18.328671    16.010305     0.440100     5.817839     2.526102   \n",
       "min      55.000000   148.000000     0.000000    15.000000    53.000000   \n",
       "25%     108.000000   272.000000     0.000000    23.000000    62.000000   \n",
       "50%     120.000000   280.000000     0.000000    26.000000    64.000000   \n",
       "75%     131.000000   288.000000     1.000000    31.000000    66.000000   \n",
       "max     176.000000   353.000000     1.000000    45.000000    72.000000   \n",
       "\n",
       "            weight        smoke  \n",
       "count  1174.000000  1174.000000  \n",
       "mean    128.478705     0.390971  \n",
       "std      20.734282     0.488176  \n",
       "min      87.000000     0.000000  \n",
       "25%     114.250000     0.000000  \n",
       "50%     125.000000     0.000000  \n",
       "75%     139.000000     1.000000  \n",
       "max     250.000000     1.000000  "
      ]
     },
     "execution_count": 3,
     "metadata": {},
     "output_type": "execute_result"
    }
   ],
   "source": [
    "df.describe()"
   ]
  },
  {
   "cell_type": "code",
   "execution_count": 4,
   "metadata": {},
   "outputs": [],
   "source": [
    "y = df['bwt']"
   ]
  },
  {
   "cell_type": "code",
   "execution_count": 6,
   "metadata": {},
   "outputs": [
    {
     "data": {
      "text/plain": [
       "array([[284],\n",
       "       [282],\n",
       "       [279],\n",
       "       ...,\n",
       "       [291],\n",
       "       [281],\n",
       "       [297]], dtype=int64)"
      ]
     },
     "execution_count": 6,
     "metadata": {},
     "output_type": "execute_result"
    }
   ],
   "source": [
    "#Simple linear regression\n",
    "\n",
    "x = np.array(df['gestation']).reshape(-1,1) #convert to array, only one attribute, reshape(-1,2) means 2 attributes\n",
    "x"
   ]
  },
  {
   "cell_type": "code",
   "execution_count": 7,
   "metadata": {},
   "outputs": [],
   "source": [
    "# split data set into training set and test set\n",
    "\n",
    "from sklearn.model_selection import train_test_split\n",
    "Xtrain, Xtest, ytrain, ytest = train_test_split(x, y, test_size = 0.3)\n"
   ]
  },
  {
   "cell_type": "code",
   "execution_count": 9,
   "metadata": {},
   "outputs": [
    {
     "name": "stdout",
     "output_type": "stream",
     "text": [
      "[0.46860632] *X -11.259690385513835\n"
     ]
    }
   ],
   "source": [
    "#import linear regression\n",
    "\n",
    "from sklearn.linear_model import LinearRegression\n",
    "lr_mdl = LinearRegression()\n",
    "lr_mdl.fit(Xtrain, ytrain)\n",
    "print(lr_mdl.coef_, \"*X\", lr_mdl.intercept_ )"
   ]
  },
  {
   "cell_type": "code",
   "execution_count": 10,
   "metadata": {},
   "outputs": [
    {
     "data": {
      "text/plain": [
       "array([126.04196162, 131.66523747, 118.54426049, 125.10474898,\n",
       "        97.45697605, 121.82450473, 122.76171738, 122.29311106,\n",
       "       123.2303237 , 126.97917426, 125.5733553 , 111.04655935,\n",
       "       124.63614266, 124.63614266, 118.54426049, 122.76171738,\n",
       "       115.26401624, 116.6698352 , 133.07105643, 126.51056794,\n",
       "       137.75711964, 108.23492143, 115.26401624, 112.92098464,\n",
       "       121.35589841, 120.41868577, 129.79081219, 121.82450473,\n",
       "       117.60704785, 122.76171738, 119.01286681,  97.45697605,\n",
       "       117.60704785, 126.04196162, 117.13844153, 119.48147313,\n",
       "       119.01286681, 124.16753634, 108.70352775, 121.35589841,\n",
       "       118.07565417, 124.63614266, 108.70352775, 121.35589841,\n",
       "       125.5733553 , 122.29311106, 116.6698352 , 110.57795303,\n",
       "       115.26401624, 114.3268036 , 119.95007945, 122.29311106,\n",
       "       111.04655935, 112.92098464, 129.79081219, 120.41868577,\n",
       "       123.2303237 , 118.54426049, 103.0802519 , 117.60704785,\n",
       "       116.6698352 , 120.41868577, 122.29311106, 117.13844153,\n",
       "       123.2303237 , 104.01746454, 120.41868577, 114.3268036 ,\n",
       "       132.13384379, 117.60704785, 119.01286681, 119.95007945,\n",
       "       119.01286681, 126.51056794, 119.48147313, 109.64074039,\n",
       "       112.45237832, 122.29311106, 124.16753634, 108.70352775,\n",
       "       126.51056794, 125.5733553 , 119.48147313, 116.20122888,\n",
       "       113.38959096, 124.63614266, 121.35589841, 121.35589841,\n",
       "       126.04196162, 119.48147313, 122.29311106, 112.45237832,\n",
       "       125.5733553 ,  94.1767318 , 113.38959096, 121.35589841,\n",
       "       118.07565417, 120.88729209, 125.5733553 , 122.76171738,\n",
       "       106.82910247, 122.76171738, 126.04196162, 121.35589841,\n",
       "       121.82450473, 111.04655935, 121.82450473, 114.3268036 ,\n",
       "       104.48607086, 119.95007945, 131.19663115, 135.41408804,\n",
       "        98.86279501, 116.20122888, 119.95007945, 118.07565417,\n",
       "       143.38039549, 124.63614266, 124.16753634, 130.72802483,\n",
       "       122.29311106, 112.45237832, 126.51056794, 120.88729209,\n",
       "       119.01286681, 110.10934671, 115.73262256, 113.38959096,\n",
       "       114.3268036 , 147.12924606, 118.07565417, 119.01286681,\n",
       "       119.95007945, 116.20122888, 117.60704785, 120.88729209,\n",
       "       114.79540992, 114.3268036 , 114.79540992, 105.4232835 ,\n",
       "       109.17213407, 121.35589841, 111.04655935, 117.60704785,\n",
       "       125.5733553 , 120.88729209, 117.60704785, 112.45237832,\n",
       "       121.82450473, 118.07565417, 118.07565417, 115.73262256,\n",
       "       118.54426049, 120.88729209, 125.10474898, 116.20122888,\n",
       "       112.92098464, 120.88729209, 133.53966276, 110.57795303,\n",
       "       111.04655935, 119.48147313, 121.82450473, 119.95007945,\n",
       "       118.54426049, 126.04196162, 122.76171738, 120.41868577,\n",
       "       126.04196162, 115.73262256, 120.88729209, 124.63614266,\n",
       "       119.95007945, 114.79540992, 121.82450473, 128.38499323,\n",
       "       124.63614266, 111.983772  , 123.2303237 , 123.69893002,\n",
       "       119.01286681, 113.85819728, 114.79540992, 125.5733553 ,\n",
       "       120.41868577, 129.79081219, 119.01286681, 117.60704785,\n",
       "       114.3268036 , 123.69893002, 120.88729209, 115.73262256,\n",
       "       119.01286681, 120.88729209, 113.85819728, 111.51516568,\n",
       "       118.54426049, 113.85819728, 117.13844153, 113.85819728,\n",
       "       119.01286681, 121.82450473, 123.2303237 , 121.35589841,\n",
       "       115.26401624, 123.69893002, 120.88729209, 119.95007945,\n",
       "       118.54426049, 115.73262256, 122.29311106, 127.91638691,\n",
       "       120.41868577, 128.38499323, 113.85819728, 121.82450473,\n",
       "       121.82450473, 122.76171738, 124.63614266, 143.38039549,\n",
       "       122.29311106, 121.82450473, 114.79540992, 119.01286681,\n",
       "       115.26401624, 120.41868577, 106.36049615, 125.10474898,\n",
       "       119.01286681, 120.41868577, 120.41868577, 125.5733553 ,\n",
       "       120.88729209, 131.66523747, 117.13844153, 125.5733553 ,\n",
       "       119.01286681, 126.04196162, 116.6698352 , 118.07565417,\n",
       "       129.32220587, 117.60704785, 121.82450473, 116.6698352 ,\n",
       "       114.3268036 , 121.35589841, 117.13844153, 113.85819728,\n",
       "       105.89188983, 118.07565417, 118.07565417, 123.2303237 ,\n",
       "       112.92098464, 120.41868577, 103.0802519 , 121.82450473,\n",
       "       117.13844153, 111.51516568, 119.95007945, 119.48147313,\n",
       "       110.57795303, 127.91638691, 118.54426049, 119.48147313,\n",
       "       111.51516568, 111.51516568, 121.82450473, 125.10474898,\n",
       "       122.29311106, 120.88729209, 125.5733553 , 120.41868577,\n",
       "       124.16753634, 119.48147313, 121.35589841, 130.25941851,\n",
       "       116.6698352 , 110.57795303, 104.48607086, 125.5733553 ,\n",
       "       121.82450473, 126.04196162, 118.54426049, 112.92098464,\n",
       "       114.3268036 , 128.85359955, 117.13844153, 117.13844153,\n",
       "       127.91638691, 123.69893002, 115.26401624, 107.76631511,\n",
       "       111.51516568, 122.29311106, 126.51056794, 122.76171738,\n",
       "       129.79081219, 128.85359955, 110.10934671, 118.07565417,\n",
       "       125.10474898, 114.3268036 , 107.29770879, 119.48147313,\n",
       "       113.38959096, 122.29311106, 113.38959096, 119.48147313,\n",
       "       119.48147313, 117.13844153, 116.6698352 , 124.63614266,\n",
       "       127.44778058, 122.29311106, 119.01286681, 116.6698352 ,\n",
       "       121.35589841, 125.10474898, 126.04196162, 115.26401624,\n",
       "       138.22572596,  94.1767318 , 120.41868577, 125.5733553 ,\n",
       "       105.4232835 , 128.38499323, 122.29311106, 116.20122888,\n",
       "       107.76631511, 122.29311106, 125.10474898, 110.57795303,\n",
       "       122.29311106, 119.01286681, 121.35589841, 120.41868577,\n",
       "       125.5733553 , 117.60704785, 115.26401624, 103.54885822,\n",
       "       119.95007945, 133.07105643, 124.16753634, 132.13384379,\n",
       "       117.13844153, 134.94548172, 119.01286681, 119.01286681,\n",
       "       125.5733553 , 108.23492143, 119.48147313, 129.32220587,\n",
       "       138.69433228])"
      ]
     },
     "execution_count": 10,
     "metadata": {},
     "output_type": "execute_result"
    }
   ],
   "source": [
    "ypred = lr_mdl.predict(Xtest)\n",
    "ypred"
   ]
  },
  {
   "cell_type": "code",
   "execution_count": 11,
   "metadata": {},
   "outputs": [
    {
     "data": {
      "text/plain": [
       "280.3157648398302"
      ]
     },
     "execution_count": 11,
     "metadata": {},
     "output_type": "execute_result"
    }
   ],
   "source": [
    "#evaluate the regression\n",
    "from sklearn.metrics import mean_squared_error\n",
    "msr =  mean_squared_error(ytest, ypred)\n",
    "msr"
   ]
  },
  {
   "cell_type": "code",
   "execution_count": 13,
   "metadata": {},
   "outputs": [
    {
     "data": {
      "text/plain": [
       "[<matplotlib.lines.Line2D at 0x2d848f36dc0>]"
      ]
     },
     "execution_count": 13,
     "metadata": {},
     "output_type": "execute_result"
    },
    {
     "data": {
      "image/png": "[encoded data removed]",
      "text/plain": [
       "<Figure size 432x288 with 1 Axes>"
      ]
     },
     "metadata": {
      "needs_background": "light"
     },
     "output_type": "display_data"
    }
   ],
   "source": [
    "import matplotlib.pyplot as plt\n",
    "plt.scatter(Xtest, ytest, color = \"black\")\n",
    "plt.plot(Xtest, ypred, color = 'red')\n"
   ]
  },
  {
   "cell_type": "code",
   "execution_count": 18,
   "metadata": {},
   "outputs": [
    {
     "data": {
      "text/plain": [
       "array([[284,   0,  27,  62, 100,   0],\n",
       "       [282,   0,  33,  64, 135,   0],\n",
       "       [279,   0,  28,  64, 115,   1],\n",
       "       ...,\n",
       "       [291,   0,  30,  65, 150,   1],\n",
       "       [281,   1,  21,  65, 110,   0],\n",
       "       [297,   0,  38,  65, 129,   0]], dtype=int64)"
      ]
     },
     "execution_count": 18,
     "metadata": {},
     "output_type": "execute_result"
    }
   ],
   "source": [
    "#multiple linear regression\n",
    "\n",
    "x = np.array(df[[ 'gestation', 'parity', 'age', 'height', 'weight', 'smoke']])\n",
    "x"
   ]
  },
  {
   "cell_type": "code",
   "execution_count": 19,
   "metadata": {},
   "outputs": [],
   "source": [
    "Xtrain, Xtest, ytrain, ytest = train_test_split(x, y, test_size = 0.3)\n"
   ]
  },
  {
   "cell_type": "code",
   "execution_count": 20,
   "metadata": {},
   "outputs": [
    {
     "name": "stdout",
     "output_type": "stream",
     "text": [
      "0.46942199814801056 *gestation +  -3.2853091947631587 *parity +  0.040691208369754 *age +  1.0602968793562926 *height +  0.06596240877669693 *weight +  -8.575484827369575 *smoke -85.00112870534974\n"
     ]
    }
   ],
   "source": [
    "lr_mdl.fit(Xtrain, ytrain)\n",
    "print(lr_mdl.coef_[0], \"*gestation + \",lr_mdl.coef_[1], \"*parity + \",lr_mdl.coef_[2], \"*age + \",lr_mdl.coef_[3], \"*height + \",lr_mdl.coef_[4], \"*weight + \", lr_mdl.coef_[5], \"*smoke\", lr_mdl.intercept_  )"
   ]
  },
  {
   "cell_type": "code",
   "execution_count": 21,
   "metadata": {},
   "outputs": [],
   "source": [
    "ypred = lr_mdl.predict(Xtest)"
   ]
  },
  {
   "cell_type": "code",
   "execution_count": 22,
   "metadata": {},
   "outputs": [
    {
     "data": {
      "text/plain": [
       "251.07184468134918"
      ]
     },
     "execution_count": 22,
     "metadata": {},
     "output_type": "execute_result"
    }
   ],
   "source": [
    "msr =  mean_squared_error(ytest, ypred)\n",
    "msr"
   ]
  },
  {
   "cell_type": "code",
   "execution_count": 24,
   "metadata": {},
   "outputs": [],
   "source": [
    "#Simple non Linear Regression\n",
    "\n",
    "x = np.array(df['gestation']).reshape(-1,1) #convert to array\n",
    "y = df['bwt']\n",
    "Xtrain, Xtest, ytrain, ytest = train_test_split(x, y, test_size = 0.3)"
   ]
  },
  {
   "cell_type": "code",
   "execution_count": 25,
   "metadata": {},
   "outputs": [],
   "source": [
    "#create polynomial feature on the selected attribute\n",
    "\n",
    "from sklearn.preprocessing import PolynomialFeatures\n",
    "poly = PolynomialFeatures(degree = 2) #معادلة من الدرجة الثانية\n"
   ]
  },
  {
   "cell_type": "code",
   "execution_count": 27,
   "metadata": {},
   "outputs": [],
   "source": [
    "#transform Xtrain and Xtest to polynomial sets\n",
    "poly_Xtrain = poly.fit_transform(Xtrain.reshape(-1, 1))\n",
    "poly_Xtest = poly.fit_transform(Xtest.reshape(-1, 1))\n"
   ]
  },
  {
   "cell_type": "code",
   "execution_count": 28,
   "metadata": {},
   "outputs": [
    {
     "data": {
      "text/plain": [
       "LinearRegression()"
      ]
     },
     "execution_count": 28,
     "metadata": {},
     "output_type": "execute_result"
    }
   ],
   "source": [
    "#create train regressor on the polynnomial train set\n",
    "poly_model = LinearRegression()\n",
    "poly_model.fit(poly_Xtrain, ytrain)\n"
   ]
  },
  {
   "cell_type": "code",
   "execution_count": 29,
   "metadata": {},
   "outputs": [
    {
     "data": {
      "text/plain": [
       "350.12790947978345"
      ]
     },
     "execution_count": 29,
     "metadata": {},
     "output_type": "execute_result"
    }
   ],
   "source": [
    "#evaluate polynomial model\n",
    "ypred = poly_model.predict(poly_Xtest)\n",
    "\n",
    "msr =  mean_squared_error(ytest, ypred)\n",
    "msr"
   ]
  },
  {
   "cell_type": "code",
   "execution_count": null,
   "metadata": {},
   "outputs": [],
   "source": []
  }
 ],
 "metadata": {
  "kernelspec": {
   "display_name": "Python 3",
   "language": "python",
   "name": "python3"
  },
  "language_info": {
   "codemirror_mode": {
    "name": "ipython",
    "version": 3
   },
   "file_extension": ".py",
   "mimetype": "text/x-python",
   "name": "python",
   "nbconvert_exporter": "python",
   "pygments_lexer": "ipython3",
   "version": "3.8.5"
  }
 },
 "nbformat": 4,
 "nbformat_minor": 4
}
